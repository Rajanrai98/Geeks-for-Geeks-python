{
  "nbformat": 4,
  "nbformat_minor": 0,
  "metadata": {
    "colab": {
      "provenance": []
    },
    "kernelspec": {
      "name": "python3",
      "display_name": "Python 3"
    },
    "language_info": {
      "name": "python"
    }
  },
  "cells": [
    {
      "cell_type": "code",
      "execution_count": 1,
      "metadata": {
        "colab": {
          "base_uri": "https://localhost:8080/"
        },
        "id": "oMbVXDswmBoA",
        "outputId": "12063077-01da-4b09-c3b0-c1c65ccd340a"
      },
      "outputs": [
        {
          "output_type": "stream",
          "name": "stdout",
          "text": [
            "geeks for geeks\n"
          ]
        }
      ],
      "source": [
        "## string is the sequence of character , string are immutable that it cannot change\n",
        "a = \"geeks for geeks\"\n",
        "print(a)"
      ]
    },
    {
      "cell_type": "code",
      "source": [
        "## list are mutable it can contain multiple data type\n",
        "list = [6, \"geeks for geeks\",1]\n",
        "print(list)\n",
        "list.append(3)\n",
        "print(list[1])"
      ],
      "metadata": {
        "colab": {
          "base_uri": "https://localhost:8080/"
        },
        "id": "6eGLftuqm8_6",
        "outputId": "5d050d92-281d-48b2-fd62-ec051c6eefff"
      },
      "execution_count": 6,
      "outputs": [
        {
          "output_type": "stream",
          "name": "stdout",
          "text": [
            "[6, 'geeks for geeks', 1]\n",
            "geeks for geeks\n"
          ]
        }
      ]
    },
    {
      "cell_type": "code",
      "source": [
        "##tup it is   juust like a list but only deff  that it is immutable\n",
        "tup = (6 , \"geeks for geeks\" , 1)\n",
        "print(tup)\n",
        "print(tup[1])"
      ],
      "metadata": {
        "colab": {
          "base_uri": "https://localhost:8080/"
        },
        "id": "yiYjheJCm9Cf",
        "outputId": "93aef047-699f-46bd-b957-ed51fc14aa05"
      },
      "execution_count": 7,
      "outputs": [
        {
          "output_type": "stream",
          "name": "stdout",
          "text": [
            "(6, 'geeks for geeks', 1)\n",
            "geeks for geeks\n"
          ]
        }
      ]
    },
    {
      "cell_type": "code",
      "source": [
        "## iteration\n",
        "i = 1\n",
        "while i<10:\n",
        "  i+=1\n",
        "  print(i)"
      ],
      "metadata": {
        "colab": {
          "base_uri": "https://localhost:8080/"
        },
        "id": "X3lR15Cvm9Ev",
        "outputId": "83bf8bc7-42c3-4ac3-9f49-196a129b70f5"
      },
      "execution_count": 8,
      "outputs": [
        {
          "output_type": "stream",
          "name": "stdout",
          "text": [
            "2\n",
            "3\n",
            "4\n",
            "5\n",
            "6\n",
            "7\n",
            "8\n",
            "9\n",
            "10\n"
          ]
        }
      ]
    },
    {
      "cell_type": "code",
      "source": [
        "string = \"hello world\"\n",
        "for i in string:\n",
        "  print(i)"
      ],
      "metadata": {
        "colab": {
          "base_uri": "https://localhost:8080/"
        },
        "id": "rV9Ot-WRm9HH",
        "outputId": "e1ab721f-e086-4bf1-ef7b-9006e90ee6ec"
      },
      "execution_count": 9,
      "outputs": [
        {
          "output_type": "stream",
          "name": "stdout",
          "text": [
            "h\n",
            "e\n",
            "l\n",
            "l\n",
            "o\n",
            " \n",
            "w\n",
            "o\n",
            "r\n",
            "l\n",
            "d\n"
          ]
        }
      ]
    },
    {
      "cell_type": "code",
      "source": [
        "l = [1,2,3,4,5,6,7,8,9]\n",
        "for i in l:\n",
        "  print(i)"
      ],
      "metadata": {
        "colab": {
          "base_uri": "https://localhost:8080/"
        },
        "id": "OCCKu_R4m9Kn",
        "outputId": "d0e06576-3070-4b60-eee4-fad7b431d9bb"
      },
      "execution_count": 10,
      "outputs": [
        {
          "output_type": "stream",
          "name": "stdout",
          "text": [
            "1\n",
            "2\n",
            "3\n",
            "4\n",
            "5\n",
            "6\n",
            "7\n",
            "8\n",
            "9\n"
          ]
        }
      ]
    },
    {
      "cell_type": "code",
      "source": [
        "## python string method the len function return the length of function\n",
        "## count function\n",
        "a = \"this is the python tutorial\"\n",
        "print(a.count(\"is\",0,len(a)))"
      ],
      "metadata": {
        "colab": {
          "base_uri": "https://localhost:8080/"
        },
        "id": "keNLD0BXpH3I",
        "outputId": "f4d589ba-32be-4640-d877-77c93c5c5f6a"
      },
      "execution_count": 11,
      "outputs": [
        {
          "output_type": "stream",
          "name": "stdout",
          "text": [
            "2\n"
          ]
        }
      ]
    },
    {
      "cell_type": "code",
      "source": [
        "a = \"this is an AI era\"\n",
        "print(a.count(\"an\",2 , len(a)))"
      ],
      "metadata": {
        "colab": {
          "base_uri": "https://localhost:8080/"
        },
        "id": "3Ofnq7scpH5m",
        "outputId": "71cd67a5-8e29-4a64-b315-0fcce69dfd66"
      },
      "execution_count": 12,
      "outputs": [
        {
          "output_type": "stream",
          "name": "stdout",
          "text": [
            "1\n"
          ]
        }
      ]
    },
    {
      "cell_type": "code",
      "source": [
        "## alignment function\n",
        "## center() , ljust(), rjust()\n",
        "## it is the function used to adjust the character of the word"
      ],
      "metadata": {
        "id": "F3Yppm3spH-W"
      },
      "execution_count": 13,
      "outputs": []
    },
    {
      "cell_type": "code",
      "source": [
        "## 20 is the size\n",
        "\n",
        "str = \"geeks for geeks\"\n",
        "print(str.center(20 , '-'))\n",
        "print(str.ljust(20 , '-'))\n",
        "print(str.rjust(20 , '-'))"
      ],
      "metadata": {
        "colab": {
          "base_uri": "https://localhost:8080/"
        },
        "id": "KHLBTC5npIAG",
        "outputId": "93a14d13-5956-419a-a5c0-3393131df011"
      },
      "execution_count": 14,
      "outputs": [
        {
          "output_type": "stream",
          "name": "stdout",
          "text": [
            "--geeks for geeks---\n",
            "geeks for geeks-----\n",
            "-----geeks for geeks\n"
          ]
        }
      ]
    },
    {
      "cell_type": "code",
      "source": [
        "## for function in the string\n",
        "## 1.) isalpha return True if list contain all the alphabets , isalnum return True if either items are alphabets and numbers in the list , isspace() are thereturn true if all the\n",
        "## character in list are spaces"
      ],
      "metadata": {
        "id": "x8iDpkFupIDg"
      },
      "execution_count": null,
      "outputs": []
    },
    {
      "cell_type": "code",
      "source": [
        "str1 = \"abc\"\n",
        "str2 = \"abc12\"\n",
        "str3 = \"  \"\n",
        "\n",
        "print(str1.isalpha())\n",
        "print(str2.isalpha())\n",
        "print(str3.isalpha())\n",
        "print(str1.isalnum())\n",
        "print(str2.isalnum())\n",
        "print(str3.isalnum())\n",
        "print(str1.isspace())\n",
        "print(str2.isspace())\n",
        "print(str3.isspace())\n"
      ],
      "metadata": {
        "colab": {
          "base_uri": "https://localhost:8080/"
        },
        "id": "3Sm6UjF9sAz6",
        "outputId": "81a5d1e8-fdd7-4b39-d896-85959eb0f677"
      },
      "execution_count": 15,
      "outputs": [
        {
          "output_type": "stream",
          "name": "stdout",
          "text": [
            "True\n",
            "False\n",
            "False\n",
            "True\n",
            "True\n",
            "False\n",
            "False\n",
            "False\n",
            "True\n"
          ]
        }
      ]
    },
    {
      "cell_type": "code",
      "source": [
        "## join is the function used to join the sequence of string to another string\n",
        "list1 = [\"geeks\" ,\"for\", \"geeks\"]\n",
        "s = \" \"\n",
        "print(s.join(list1))"
      ],
      "metadata": {
        "colab": {
          "base_uri": "https://localhost:8080/"
        },
        "id": "sDvtn4oUsA2R",
        "outputId": "2dd64ed2-0844-4b79-8a98-9965c2d3ad8b"
      },
      "execution_count": 16,
      "outputs": [
        {
          "output_type": "stream",
          "name": "stdout",
          "text": [
            "geeks for geeks\n"
          ]
        }
      ]
    },
    {
      "cell_type": "code",
      "source": [
        "## find and rfind function  it is used to find the position of substring with in a string ,both function returns -1  if the string not found,\n",
        "#   find function the first occurance of substring and rfind find out the last occurance of the substring\n",
        "## function tales the three parameter 1.) string to be searched ,2.)staring index , 3.)ending index which is equal to the length of the string\n",
        "\n",
        "str = \"this is the  python  tutorial\"\n",
        "print(\"the first occurance of its \"is\" is at: \")\n",
        "print(str.find(\"is\",0 , len(str)))\n",
        "print(\"the last occurance of \"is\" is at: \")\n",
        "print(str.rfind(\"is\",0,len(str)))"
      ],
      "metadata": {
        "colab": {
          "base_uri": "https://localhost:8080/"
        },
        "id": "rjgbiXcPsA3_",
        "outputId": "53e0c062-cddb-4cd0-fdfe-aff43c171797"
      },
      "execution_count": 18,
      "outputs": [
        {
          "output_type": "stream",
          "name": "stdout",
          "text": [
            "False\n",
            "2\n",
            "False\n",
            "5\n"
          ]
        },
        {
          "output_type": "stream",
          "name": "stderr",
          "text": [
            "<>:6: SyntaxWarning: \"is\" with a literal. Did you mean \"==\"?\n",
            "<>:8: SyntaxWarning: \"is\" with a literal. Did you mean \"==\"?\n",
            "<>:6: SyntaxWarning: \"is\" with a literal. Did you mean \"==\"?\n",
            "<>:8: SyntaxWarning: \"is\" with a literal. Did you mean \"==\"?\n",
            "<ipython-input-18-9e1bf22db27c>:6: SyntaxWarning: \"is\" with a literal. Did you mean \"==\"?\n",
            "  print(\"the first occurance of its \"is\" is at: \")\n",
            "<ipython-input-18-9e1bf22db27c>:8: SyntaxWarning: \"is\" with a literal. Did you mean \"==\"?\n",
            "  print(\"the last occurance of \"is\" is at: \")\n"
          ]
        }
      ]
    },
    {
      "cell_type": "code",
      "source": [
        "## startswith() , endswith()\n",
        "## this function return True if the string starts with and ends with mentioned string\n",
        "a = \"geeks for geeks\"\n",
        "b = \"geeks\"\n",
        "if (a.startswith(b)):\n",
        "  print(\"a starts with b\")\n",
        "else:\n",
        "  print(\"a does not starts with b\")\n",
        "\n",
        "if (a.endswith(b)):\n",
        "  print(\"a ends with b\")\n",
        "else:\n",
        "  print(\"a does not ends with b\")"
      ],
      "metadata": {
        "colab": {
          "base_uri": "https://localhost:8080/"
        },
        "id": "KTSCwAp3sA7f",
        "outputId": "1e5d0bb7-c0c8-4eda-d51a-d4852148358a"
      },
      "execution_count": 19,
      "outputs": [
        {
          "output_type": "stream",
          "name": "stdout",
          "text": [
            "a starts with b\n",
            "a ends with b\n"
          ]
        }
      ]
    },
    {
      "cell_type": "code",
      "source": [
        "## isupper()  and islower()\n",
        "## this  is the function return True if the string present in upper case otherwise return false"
      ],
      "metadata": {
        "id": "_pGpt8qixzFv"
      },
      "execution_count": 20,
      "outputs": []
    },
    {
      "cell_type": "code",
      "source": [
        "a = \"geeks for geeks\"\n",
        "b = \"GEEKS FOR GEEKS\"\n",
        "C = \"Geeks for Geeks\""
      ],
      "metadata": {
        "id": "teSCUWNkxzIV"
      },
      "execution_count": 21,
      "outputs": []
    },
    {
      "cell_type": "code",
      "source": [
        "print(a.islower())\n",
        "print(b.islower())\n",
        "print(C.islower())\n",
        "print(a.isupper())\n",
        "print(b.isupper())\n",
        "print(C.isupper())"
      ],
      "metadata": {
        "colab": {
          "base_uri": "https://localhost:8080/"
        },
        "id": "oRikEf0mxzLz",
        "outputId": "37432c85-aa43-48bd-8a45-a6304841ca0e"
      },
      "execution_count": 23,
      "outputs": [
        {
          "output_type": "stream",
          "name": "stdout",
          "text": [
            "True\n",
            "False\n",
            "False\n",
            "False\n",
            "True\n",
            "False\n"
          ]
        }
      ]
    },
    {
      "cell_type": "code",
      "source": [
        "## upper() , lower() , title() , swapcase()\n",
        "\n",
        "A = \"you are watching a python tutorial at geeks for geeks\"\n",
        "print(A.upper())\n",
        "print(A.lower())\n",
        "print(A.title())\n",
        "print(A.swapcase())"
      ],
      "metadata": {
        "colab": {
          "base_uri": "https://localhost:8080/"
        },
        "id": "rd0fvLcwy0-U",
        "outputId": "560681b2-67c9-46bc-fb0f-33dbdf9c3e70"
      },
      "execution_count": 24,
      "outputs": [
        {
          "output_type": "stream",
          "name": "stdout",
          "text": [
            "YOU ARE WATCHING A PYTHON TUTORIAL AT GEEKS FOR GEEKS\n",
            "you are watching a python tutorial at geeks for geeks\n",
            "You Are Watching A Python Tutorial At Geeks For Geeks\n",
            "YOU ARE WATCHING A PYTHON TUTORIAL AT GEEKS FOR GEEKS\n"
          ]
        }
      ]
    },
    {
      "cell_type": "code",
      "source": [
        "## strip(), lstrip() used to remove the traing highphen , rstrip remove the leading  highphen , rstrip() function , these function is used to remove the highphen from the string it can be from right side , left side , and both end.\n",
        "str = \"---geeks for geeks---\"\n",
        "\n",
        "## using strip() to delete all '-'\n",
        "print(\"string after stripping all '-'' is: \")\n",
        "print(str.strip(\"-\"))\n",
        "print(str.lstrip(\"-\"))\n",
        "print(str.rstrip(\"-\"))"
      ],
      "metadata": {
        "colab": {
          "base_uri": "https://localhost:8080/"
        },
        "id": "jx_O5I6Ey1BA",
        "outputId": "b0d06b50-a142-4e8f-eb04-b2ac96a39abf"
      },
      "execution_count": 26,
      "outputs": [
        {
          "output_type": "stream",
          "name": "stdout",
          "text": [
            "string after stripping all '-'' is: \n",
            "geeks for geeks\n",
            "geeks for geeks---\n",
            "---geeks for geeks\n"
          ]
        }
      ]
    },
    {
      "cell_type": "code",
      "source": [
        "## min() and max() function"
      ],
      "metadata": {
        "id": "4uWO0zOk0-Zt"
      },
      "execution_count": null,
      "outputs": []
    },
    {
      "cell_type": "code",
      "source": [
        "str = \"geeks for geeks\"\n",
        "# using min() to print the  samllest character\n",
        "print(\"minimum value character is:\" +min(str))\n",
        "## using max () to print the largest character\n",
        "print(\"maximum value character:\" +max(str))"
      ],
      "metadata": {
        "colab": {
          "base_uri": "https://localhost:8080/"
        },
        "id": "ZVZSrFrP0-cP",
        "outputId": "7f59574d-747c-4609-f7b2-dba3a014a7e6"
      },
      "execution_count": 31,
      "outputs": [
        {
          "output_type": "stream",
          "name": "stdout",
          "text": [
            "minimum value character is: \n",
            "maximum value character:s\n"
          ]
        }
      ]
    },
    {
      "cell_type": "code",
      "source": [
        "# using translate () to translate using the mapping\n",
        "## using maketrans() to map elements of str2 with str1\n",
        "\n",
        "str_ = \"geeks for geeks\"\n",
        "str1 = \"gfo\"\n",
        "str2 = \"abc\"\n",
        "mapped = str.maketrans(str1 ,str2);\n",
        "\n",
        "print(\"the string before translation using mapped element is:\")\n",
        "print(str_)\n",
        "print(str_.translate(mapped))\n"
      ],
      "metadata": {
        "colab": {
          "base_uri": "https://localhost:8080/"
        },
        "id": "cd6ltw360-en",
        "outputId": "296b36bb-1621-44d0-efb0-6576c7f2b691"
      },
      "execution_count": 32,
      "outputs": [
        {
          "output_type": "stream",
          "name": "stdout",
          "text": [
            "the string before translation using mapped element is:\n",
            "geeks for geeks\n",
            "aeeks bcr aeeks\n"
          ]
        }
      ]
    },
    {
      "cell_type": "code",
      "source": [
        "## replace() function is used to replace substring with the new substring\n",
        "\n",
        "str = \"nerdsfornerds is for nerds\"\n",
        "str1 = \"nerds\"\n",
        "str2 = \"geeks\"\n",
        "\n",
        "## using replace() to replace str2 with str1 in str\n",
        "# only changes 2 occurances\n",
        "print(\"the string after replacing string is: \")\n",
        "print(str.replace(str1 , str2 , 3))"
      ],
      "metadata": {
        "colab": {
          "base_uri": "https://localhost:8080/"
        },
        "id": "fOPKP06q0-iH",
        "outputId": "106f00db-790d-4d56-ea92-4110f3c2981a"
      },
      "execution_count": 35,
      "outputs": [
        {
          "output_type": "stream",
          "name": "stdout",
          "text": [
            "the string after replacing string is: \n",
            "geeksforgeeks is for geeks\n"
          ]
        }
      ]
    },
    {
      "cell_type": "code",
      "source": [
        "## List method  and operators in python\n",
        "# operators  are in and notin operators is used to check the element present in the list or not\n",
        "l = [1,4,3,2,5]\n",
        "\n",
        "if 4 in l:\n",
        "  print(\"4 is present in the list\")\n",
        "elif 4 not in l:\n",
        "  print(\" 4 is not present in the list\")"
      ],
      "metadata": {
        "colab": {
          "base_uri": "https://localhost:8080/"
        },
        "id": "_5EnQLnpy1Dd",
        "outputId": "28d6ded8-eda8-46a7-f0d7-97f0ba607bd5"
      },
      "execution_count": 36,
      "outputs": [
        {
          "output_type": "stream",
          "name": "stdout",
          "text": [
            "4 is present in the list\n"
          ]
        }
      ]
    },
    {
      "cell_type": "code",
      "source": [
        "## len() ,min() ,  max() functions in list in python\n",
        "l = [2,1,3,4]\n",
        "print(len(l))\n",
        "print(max(l))\n",
        "print(min(l))"
      ],
      "metadata": {
        "colab": {
          "base_uri": "https://localhost:8080/"
        },
        "id": "YAMQhU3-y1GI",
        "outputId": "a68c9f84-c884-445d-c4ae-9719890150ea"
      },
      "execution_count": 37,
      "outputs": [
        {
          "output_type": "stream",
          "name": "stdout",
          "text": [
            "4\n",
            "4\n",
            "1\n"
          ]
        }
      ]
    },
    {
      "cell_type": "code",
      "source": [
        "## + operators and * operators\n",
        "# + operators are used to concating the 2 list whereas * operators used to combine the list n times  and return single list\n",
        "\n",
        "l1 = [1,2,3]\n",
        "l2 = [4,5,6]\n",
        "l3 = l1+l2\n",
        "print(l3)\n",
        "l4 = l1*3\n",
        "print(l4)"
      ],
      "metadata": {
        "colab": {
          "base_uri": "https://localhost:8080/"
        },
        "id": "xshnWY5j6eXB",
        "outputId": "0265ccd6-0165-4ed2-fb09-25f320c06ae6"
      },
      "execution_count": 38,
      "outputs": [
        {
          "output_type": "stream",
          "name": "stdout",
          "text": [
            "[1, 2, 3, 4, 5, 6]\n",
            "[1, 2, 3, 1, 2, 3, 1, 2, 3]\n"
          ]
        }
      ]
    },
    {
      "cell_type": "code",
      "source": [
        "## index and count function\n",
        "## index function returns the index of first occurance of en element where as count function counts the number of occurances of an element in the list\n",
        "\n",
        "l = [1,1,2,2,2,3,4,7]\n",
        "print(l.index(2,1,8))\n",
        "print(l.count(2))"
      ],
      "metadata": {
        "colab": {
          "base_uri": "https://localhost:8080/"
        },
        "id": "gCTrdwjk6eZ3",
        "outputId": "41c891d7-206a-421d-d0c8-f9975c32d780"
      },
      "execution_count": 41,
      "outputs": [
        {
          "output_type": "stream",
          "name": "stdout",
          "text": [
            "2\n",
            "3\n"
          ]
        }
      ]
    },
    {
      "cell_type": "code",
      "source": [],
      "metadata": {
        "id": "ecT_lSPK6ecR"
      },
      "execution_count": null,
      "outputs": []
    },
    {
      "cell_type": "code",
      "source": [],
      "metadata": {
        "id": "1rP5KD4e6een"
      },
      "execution_count": null,
      "outputs": []
    },
    {
      "cell_type": "code",
      "source": [],
      "metadata": {
        "id": "vzoiidMG6eg9"
      },
      "execution_count": null,
      "outputs": []
    },
    {
      "cell_type": "code",
      "source": [],
      "metadata": {
        "id": "id24hcAq6ejL"
      },
      "execution_count": null,
      "outputs": []
    },
    {
      "cell_type": "code",
      "source": [],
      "metadata": {
        "id": "vs7mJhC86el7"
      },
      "execution_count": null,
      "outputs": []
    },
    {
      "cell_type": "code",
      "source": [],
      "metadata": {
        "id": "g0WUlvKu6epe"
      },
      "execution_count": null,
      "outputs": []
    },
    {
      "cell_type": "code",
      "source": [],
      "metadata": {
        "id": "1al2JBLVy1It"
      },
      "execution_count": null,
      "outputs": []
    },
    {
      "cell_type": "code",
      "source": [],
      "metadata": {
        "id": "RAGx8hZfy1MB"
      },
      "execution_count": null,
      "outputs": []
    }
  ]
}